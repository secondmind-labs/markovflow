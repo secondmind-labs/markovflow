{
 "cells": [
  {
   "cell_type": "code",
   "execution_count": 1,
   "id": "0ea5a75f",
   "metadata": {},
   "outputs": [
    {
     "name": "stderr",
     "output_type": "stream",
     "text": [
      "2022-08-11 11:26:24.581663: W tensorflow/stream_executor/platform/default/dso_loader.cc:60] Could not load dynamic library 'libcudart.so.11.0'; dlerror: libcudart.so.11.0: cannot open shared object file: No such file or directory\n",
      "2022-08-11 11:26:24.581697: I tensorflow/stream_executor/cuda/cudart_stub.cc:29] Ignore above cudart dlerror if you do not have a GPU set up on your machine.\n",
      "2022-08-11 11:26:26.319114: I tensorflow/compiler/jit/xla_cpu_device.cc:41] Not creating XLA devices, tf_xla_enable_xla_devices not set\n",
      "2022-08-11 11:26:26.324132: I tensorflow/stream_executor/platform/default/dso_loader.cc:49] Successfully opened dynamic library libcuda.so.1\n",
      "2022-08-11 11:26:26.347687: E tensorflow/stream_executor/cuda/cuda_driver.cc:328] failed call to cuInit: CUDA_ERROR_UNKNOWN: unknown error\n",
      "2022-08-11 11:26:26.347731: I tensorflow/stream_executor/cuda/cuda_diagnostics.cc:169] retrieving CUDA diagnostic information for host: verma\n",
      "2022-08-11 11:26:26.347741: I tensorflow/stream_executor/cuda/cuda_diagnostics.cc:176] hostname: verma\n",
      "2022-08-11 11:26:26.347851: I tensorflow/stream_executor/cuda/cuda_diagnostics.cc:200] libcuda reported version is: 510.73.5\n",
      "2022-08-11 11:26:26.347887: I tensorflow/stream_executor/cuda/cuda_diagnostics.cc:204] kernel reported version is: 510.73.5\n",
      "2022-08-11 11:26:26.347914: I tensorflow/stream_executor/cuda/cuda_diagnostics.cc:310] kernel version seems to match DSO: 510.73.5\n",
      "2022-08-11 11:26:26.348339: I tensorflow/core/platform/cpu_feature_guard.cc:142] This TensorFlow binary is optimized with oneAPI Deep Neural Network Library (oneDNN) to use the following CPU instructions in performance-critical operations:  AVX2 FMA\n",
      "To enable them in other operations, rebuild TensorFlow with the appropriate compiler flags.\n",
      "2022-08-11 11:26:26.348676: I tensorflow/compiler/jit/xla_gpu_device.cc:99] Not creating XLA devices, tf_xla_enable_xla_devices not set\n"
     ]
    }
   ],
   "source": [
    "import numpy as np\n",
    "import os\n",
    "import matplotlib.pyplot as plt\n",
    "import tikzplotlib\n",
    "from markovflow.sde.sde import PriorDoubleWellSDE\n",
    "\n",
    "from docs.sde.sde_exp_utils import bitmappify"
   ]
  },
  {
   "cell_type": "code",
   "execution_count": 2,
   "id": "f2cd2aa4",
   "metadata": {},
   "outputs": [],
   "source": [
    "seed_id = 33\n",
    "main_dir = r\"../data/gpu_training/\" + str(seed_id)\n",
    "\n",
    "generate_tex = False\n",
    "output_dir = r\"fig/DW/\" + str(seed_id)\n",
    "\n",
    "if not os.path.exists(output_dir):\n",
    "    os.makedirs(output_dir)\n",
    "    \n",
    "extra_axis_parameters = [\"axis x line=bottom\", \"axis y line=left\"]"
   ]
  },
  {
   "cell_type": "code",
   "execution_count": 3,
   "id": "4788c42e",
   "metadata": {},
   "outputs": [],
   "source": [
    "def list_to_str(lst):\n",
    "    return str(lst).replace(\"[\", \"{\").replace(\"]\", \"}\")"
   ]
  },
  {
   "cell_type": "markdown",
   "id": "4d18d095",
   "metadata": {},
   "source": [
    "## Plot learning"
   ]
  },
  {
   "cell_type": "code",
   "execution_count": 14,
   "id": "e7a9894d",
   "metadata": {},
   "outputs": [],
   "source": [
    "ssm_1_path = os.path.join(main_dir, \"learning_0.01\", \"ssm_m_step.npz\")\n",
    "ssm_5_path = os.path.join(main_dir, \"learning_0.005\", \"ssm_m_step.npz\")\n",
    "ssm_01_path = os.path.join(main_dir, \"learning_0.001\", \"ssm_m_step.npz\")\n",
    "\n",
    "ssm_1_a = np.load(ssm_1_path)[\"a\"]\n",
    "ssm_1_c = np.load(ssm_1_path)[\"c\"]\n",
    "\n",
    "ssm_5_a = np.load(ssm_5_path)[\"a\"]\n",
    "ssm_5_c = np.load(ssm_5_path)[\"c\"]\n",
    "\n",
    "ssm_01_a = np.load(ssm_01_path)[\"a\"]\n",
    "ssm_01_c = np.load(ssm_01_path)[\"c\"]"
   ]
  },
  {
   "cell_type": "code",
   "execution_count": 15,
   "id": "6e2bc29c",
   "metadata": {},
   "outputs": [],
   "source": [
    "vgp_1_path = os.path.join(main_dir, \"learning_0.01\", \"vgp_m_step.npz\")\n",
    "vgp_5_path = os.path.join(main_dir, \"learning_0.005\", \"vgp_m_step.npz\")\n",
    "vgp_01_path = os.path.join(main_dir, \"learning_0.001\", \"vgp_m_step.npz\")\n",
    "\n",
    "vgp_1_a = np.load(vgp_1_path)[\"a\"]\n",
    "vgp_1_c = np.load(vgp_1_path)[\"c\"]\n",
    "\n",
    "vgp_5_a = np.load(vgp_5_path)[\"a\"]\n",
    "vgp_5_c = np.load(vgp_5_path)[\"c\"]\n",
    "\n",
    "vgp_01_a = np.load(vgp_01_path)[\"a\"]\n",
    "vgp_01_c = np.load(vgp_01_path)[\"c\"]"
   ]
  },
  {
   "cell_type": "code",
   "execution_count": 24,
   "id": "31aa4c01",
   "metadata": {},
   "outputs": [
    {
     "data": {
      "image/png": "[encoded data removed]",
      "text/plain": [
       "<Figure size 504x504 with 1 Axes>"
      ]
     },
     "metadata": {
      "needs_background": "light"
     },
     "output_type": "display_data"
    }
   ],
   "source": [
    "fig, ax = plt.subplots(1, 1, figsize=(7, 7))\n",
    "\n",
    "plt.plot(ssm_1_a, ssm_1_c, \".-\", label=\"t-VGP\", linewidth=3., color=\"red\")\n",
    "plt.plot(vgp_1_a, vgp_1_c, \".-\", label=\"VGP (dt=0.01)\", linewidth=3.)\n",
    "plt.plot(vgp_5_a, vgp_5_c, \".-\", label=\"VGP (dt=0.005)\", linewidth=3.)\n",
    "plt.plot(vgp_01_a, vgp_01_c, \".-\", label=\"VGP (dt=0.001)\", linewidth=3.)\n",
    "\n",
    "axis_parameters = extra_axis_parameters.copy()\n",
    "\n",
    "if seed_id==12:\n",
    "    x_ticks = [1.0, 1.5, 2.1]\n",
    "    y_ticks = [0.5, 0.7, 0.9]\n",
    "elif seed_id==33:\n",
    "    x_ticks = [1, 2, 3, 4]\n",
    "    y_ticks = [0.6, 0.8, 1.0]\n",
    "    \n",
    "plt.xticks(x_ticks)\n",
    "plt.yticks(y_ticks)\n",
    "\n",
    "axis_parameters.append(\"xtick=\"+list_to_str(x_ticks))\n",
    "axis_parameters.append(\"ytick=\"+list_to_str(y_ticks))\n",
    "\n",
    "    \n",
    "# Hide the right and top spines\n",
    "ax.spines.right.set_visible(False)\n",
    "ax.spines.top.set_visible(False)\n",
    "\n",
    "if seed_id==12:\n",
    "    plt.xlim([0.95, 2.2])\n",
    "    plt.ylim([0.49, 0.95])\n",
    "\n",
    "elif seed_id==33:\n",
    "    plt.xlim([2.5, 4.1])\n",
    "    plt.ylim([0.8, 1.0])\n",
    "    \n",
    "plt.xlabel(\"a\")\n",
    "plt.ylabel(\"c\")\n",
    "\n",
    "\n",
    "# plt.legend()\n",
    "\n",
    "if generate_tex:\n",
    "    tikzplotlib.save(os.path.join(output_dir, 'm_step.tex'), figure=fig, axis_width=\"\\\\figurewidth\",\n",
    "                 axis_height=\"\\\\figureheight\", extra_axis_parameters=axis_parameters)\n",
    "    \n",
    "plt.show()\n"
   ]
  },
  {
   "cell_type": "markdown",
   "id": "fe1e52b9",
   "metadata": {},
   "source": [
    "## Plot Drift"
   ]
  },
  {
   "cell_type": "code",
   "execution_count": 7,
   "id": "21f3865f",
   "metadata": {},
   "outputs": [],
   "source": [
    "ssm_1_path = os.path.join(main_dir, \"learning_0.01\", \"ssm_learnt_sde.npz\")\n",
    "\n",
    "ssm_1_a = np.load(ssm_1_path)[\"a\"][-1]\n",
    "ssm_1_c = np.load(ssm_1_path)[\"c\"][-1]\n"
   ]
  },
  {
   "cell_type": "code",
   "execution_count": 8,
   "id": "db639f28",
   "metadata": {},
   "outputs": [],
   "source": [
    "vgp_1_path = os.path.join(main_dir, \"learning_0.01\", \"vgp_learnt_sde.npz\")\n",
    "vgp_5_path = os.path.join(main_dir, \"learning_0.005\", \"vgp_learnt_sde.npz\")\n",
    "vgp_01_path = os.path.join(main_dir, \"learning_0.001\", \"vgp_learnt_sde.npz\")\n",
    "\n",
    "vgp_1_a = np.load(vgp_1_path)[\"a\"][-1]\n",
    "vgp_1_c = np.load(vgp_1_path)[\"c\"][-1]\n",
    "\n",
    "vgp_5_a = np.load(vgp_5_path)[\"a\"][-1]\n",
    "vgp_5_c = np.load(vgp_5_path)[\"c\"][-1]\n",
    "\n",
    "vgp_01_a = np.load(vgp_01_path)[\"a\"][-1]\n",
    "vgp_01_c = np.load(vgp_01_path)[\"c\"][-1]"
   ]
  },
  {
   "cell_type": "code",
   "execution_count": 9,
   "id": "81fc1a81",
   "metadata": {},
   "outputs": [],
   "source": [
    "ssm_sde = PriorDoubleWellSDE(initial_a_val=ssm_1_a, initial_c_val=ssm_1_c)\n",
    "\n",
    "vgp_1_sde = PriorDoubleWellSDE(initial_a_val=vgp_1_a, initial_c_val=vgp_1_c)\n",
    "vgp_5_sde = PriorDoubleWellSDE(initial_a_val=vgp_5_a, initial_c_val=vgp_5_c)\n",
    "vgp_01_sde = PriorDoubleWellSDE(initial_a_val=vgp_01_a, initial_c_val=vgp_01_c)\n",
    "\n",
    "true_sde = PriorDoubleWellSDE(initial_a_val=4., initial_c_val=1.)"
   ]
  },
  {
   "cell_type": "code",
   "execution_count": 10,
   "id": "1a6dad87",
   "metadata": {},
   "outputs": [],
   "source": [
    "x = np.linspace(-2, 2, 50).reshape((-1, 1))\n",
    "\n",
    "ssm_drift = ssm_sde.drift(x, t=None)\n",
    "\n",
    "vgp_1_drift = vgp_1_sde.drift(x, t=None)\n",
    "vgp_5_drift = vgp_5_sde.drift(x, t=None)\n",
    "vgp_01_drift = vgp_01_sde.drift(x, t=None)\n",
    "\n",
    "true_drift = true_sde.drift(x, t=None)"
   ]
  },
  {
   "cell_type": "code",
   "execution_count": 11,
   "id": "7b9df3d4",
   "metadata": {},
   "outputs": [
    {
     "data": {
      "image/png": "[encoded data removed]",
      "text/plain": [
       "<Figure size 360x360 with 1 Axes>"
      ]
     },
     "metadata": {
      "needs_background": "light"
     },
     "output_type": "display_data"
    }
   ],
   "source": [
    "fig, ax = plt.subplots(1, 1, figsize=(5, 5))\n",
    "\n",
    "plt.plot(x, ssm_drift, label=\"t-VGP\", linewidth=3., color=\"red\")\n",
    "plt.plot(x, vgp_1_drift, label=\"VGP (dt=0.01)\", linewidth=3.)\n",
    "plt.plot(x, vgp_5_drift, label=\"VGP (dt=0.005)\", linewidth=3.)\n",
    "plt.plot(x, vgp_01_drift, label=\"VGP (dt=0.001)\", linewidth=3.)\n",
    "plt.plot(x, true_drift, label=\"True drift\", linewidth=3., color=\"black\", linestyle=\"dashed\")\n",
    "\n",
    "\n",
    "axis_parameters = extra_axis_parameters.copy()\n",
    "\n",
    "x_ticks = [-1.5, -0.5, 0.5, 1.5]\n",
    "y_ticks = [-1.5, -0.5, 0.5, 1.5]\n",
    "\n",
    "plt.xticks(x_ticks)\n",
    "plt.yticks(y_ticks)\n",
    "\n",
    "axis_parameters.append(\"xtick=\"+list_to_str(x_ticks))\n",
    "axis_parameters.append(\"ytick=\"+list_to_str(y_ticks))\n",
    "\n",
    "    \n",
    "# Hide the right and top spines\n",
    "ax.spines.right.set_visible(False)\n",
    "ax.spines.top.set_visible(False)\n",
    "\n",
    "plt.xlim([-1.6, 1.6])\n",
    "plt.ylim([-1.6, 1.6])\n",
    "\n",
    "plt.xlabel(\"x\")\n",
    "plt.ylabel(\"drift\")\n",
    "\n",
    "plt.legend()\n",
    "\n",
    "if generate_tex:\n",
    "    tikzplotlib.save(os.path.join(output_dir, 'learnt_drift.tex'), figure=fig, axis_width=\"\\\\figurewidth\",\n",
    "                 axis_height=\"\\\\figureheight\", extra_axis_parameters=axis_parameters)\n",
    "    \n",
    "plt.show()\n"
   ]
  },
  {
   "cell_type": "code",
   "execution_count": null,
   "id": "54208b5d",
   "metadata": {},
   "outputs": [],
   "source": []
  }
 ],
 "metadata": {
  "kernelspec": {
   "display_name": "Python 3",
   "language": "python",
   "name": "python3"
  },
  "language_info": {
   "codemirror_mode": {
    "name": "ipython",
    "version": 3
   },
   "file_extension": ".py",
   "mimetype": "text/x-python",
   "name": "python",
   "nbconvert_exporter": "python",
   "pygments_lexer": "ipython3",
   "version": "3.7.11"
  }
 },
 "nbformat": 4,
 "nbformat_minor": 5
}
