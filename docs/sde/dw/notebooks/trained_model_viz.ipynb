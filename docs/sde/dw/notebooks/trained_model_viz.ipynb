{
 "cells": [
  {
   "cell_type": "code",
   "execution_count": 1,
   "id": "6297a028",
   "metadata": {
    "pycharm": {
     "name": "#%%\n"
    }
   },
   "outputs": [
    {
     "name": "stderr",
     "output_type": "stream",
     "text": [
      "2022-08-22 10:40:53.965727: W tensorflow/stream_executor/platform/default/dso_loader.cc:60] Could not load dynamic library 'libcudart.so.11.0'; dlerror: libcudart.so.11.0: cannot open shared object file: No such file or directory\n",
      "2022-08-22 10:40:53.965766: I tensorflow/stream_executor/cuda/cudart_stub.cc:29] Ignore above cudart dlerror if you do not have a GPU set up on your machine.\n",
      "2022-08-22 10:40:56.698186: I tensorflow/compiler/jit/xla_cpu_device.cc:41] Not creating XLA devices, tf_xla_enable_xla_devices not set\n",
      "2022-08-22 10:40:56.699388: I tensorflow/stream_executor/platform/default/dso_loader.cc:49] Successfully opened dynamic library libcuda.so.1\n",
      "2022-08-22 10:40:56.722374: E tensorflow/stream_executor/cuda/cuda_driver.cc:328] failed call to cuInit: CUDA_ERROR_UNKNOWN: unknown error\n",
      "2022-08-22 10:40:56.722410: I tensorflow/stream_executor/cuda/cuda_diagnostics.cc:169] retrieving CUDA diagnostic information for host: verma\n",
      "2022-08-22 10:40:56.722421: I tensorflow/stream_executor/cuda/cuda_diagnostics.cc:176] hostname: verma\n",
      "2022-08-22 10:40:56.722517: I tensorflow/stream_executor/cuda/cuda_diagnostics.cc:200] libcuda reported version is: 510.73.5\n",
      "2022-08-22 10:40:56.722553: I tensorflow/stream_executor/cuda/cuda_diagnostics.cc:204] kernel reported version is: 510.73.5\n",
      "2022-08-22 10:40:56.722563: I tensorflow/stream_executor/cuda/cuda_diagnostics.cc:310] kernel version seems to match DSO: 510.73.5\n",
      "2022-08-22 10:40:56.723139: I tensorflow/core/platform/cpu_feature_guard.cc:142] This TensorFlow binary is optimized with oneAPI Deep Neural Network Library (oneDNN) to use the following CPU instructions in performance-critical operations:  AVX2 FMA\n",
      "To enable them in other operations, rebuild TensorFlow with the appropriate compiler flags.\n",
      "2022-08-22 10:40:56.723488: I tensorflow/compiler/jit/xla_gpu_device.cc:99] Not creating XLA devices, tf_xla_enable_xla_devices not set\n"
     ]
    }
   ],
   "source": [
    "import os\n",
    "import numpy as np\n",
    "import matplotlib.pyplot as plt\n",
    "import tensorflow as tf\n",
    "import wandb\n",
    "import gpflow\n",
    "from gpflow.likelihoods import Gaussian\n",
    "from gpflow.base import Parameter\n",
    "\n",
    "from markovflow.models.cvi_sde import SDESSM\n",
    "from markovflow.sde.sde import PriorDoubleWellSDE\n",
    "\n",
    "from docs.sde.sde_exp_utils import predict_ssm, plot_posterior"
   ]
  },
  {
   "cell_type": "code",
   "execution_count": 2,
   "id": "1adcd8d3",
   "metadata": {
    "pycharm": {
     "name": "#%%\n"
    }
   },
   "outputs": [],
   "source": [
    "seed_id = 18\n",
    "main_dir = r\"../data/\" + str(seed_id)\n",
    "sub_dir = \"inference_0.001\"\n",
    "dt = 0.001"
   ]
  },
  {
   "cell_type": "code",
   "execution_count": 3,
   "id": "f2ff5823",
   "metadata": {
    "pycharm": {
     "name": "#%%\n"
    }
   },
   "outputs": [
    {
     "name": "stderr",
     "output_type": "stream",
     "text": [
      "Failed to detect the name of this notebook, you can set it manually with the WANDB_NOTEBOOK_NAME environment variable to enable code saving.\n"
     ]
    },
    {
     "data": {
      "text/html": [
       "Tracking run with wandb version 0.12.18"
      ],
      "text/plain": [
       "<IPython.core.display.HTML object>"
      ]
     },
     "metadata": {},
     "output_type": "display_data"
    },
    {
     "data": {
      "text/html": [
       "W&B syncing is set to <code>`offline`<code> in this directory.  <br/>Run <code>`wandb online`<code> or set <code>WANDB_MODE=online<code> to enable cloud syncing."
      ],
      "text/plain": [
       "<IPython.core.display.HTML object>"
      ]
     },
     "metadata": {},
     "output_type": "display_data"
    },
    {
     "data": {
      "text/html": [
       "<button onClick=\"this.nextSibling.style.display='block';this.style.display='none';\">Display W&B run</button><iframe src=\"?jupyter=true\" style=\"border:none;width:100%;height:420px;display:none;\"></iframe>"
      ],
      "text/plain": [
       "<wandb.sdk.wandb_run.Run at 0x7fe2ec1c9190>"
      ]
     },
     "execution_count": 3,
     "metadata": {},
     "output_type": "execute_result"
    }
   ],
   "source": [
    "os.environ['WANDB_MODE'] = 'offline'\n",
    "wandb.init()"
   ]
  },
  {
   "cell_type": "markdown",
   "id": "77c396ed",
   "metadata": {
    "pycharm": {
     "name": "#%% md\n"
    }
   },
   "source": [
    "## Load Data"
   ]
  },
  {
   "cell_type": "code",
   "execution_count": 4,
   "id": "93b49915",
   "metadata": {
    "pycharm": {
     "name": "#%%\n"
    }
   },
   "outputs": [],
   "source": [
    "data_path = os.path.join(main_dir, \"data.npz\")\n",
    "data = np.load(data_path)"
   ]
  },
  {
   "cell_type": "code",
   "execution_count": 5,
   "id": "08f2fb28",
   "metadata": {
    "pycharm": {
     "name": "#%%\n"
    }
   },
   "outputs": [],
   "source": [
    "DTYPE = gpflow.config.default_float()\n",
    "NOISE_VAR = data[\"noise_stddev\"]**2\n",
    "Q = data[\"q\"]\n",
    "OBSERVATION_DATA = (data[\"observation_grid\"].reshape((-1,)), data[\"observation_vals\"].reshape((-1, 1)))\n",
    "TIME_GRID = data[\"time_grid\"]\n",
    "T0 = TIME_GRID[0]\n",
    "T1 = TIME_GRID[-1]"
   ]
  },
  {
   "cell_type": "code",
   "execution_count": 6,
   "id": "c1202b60",
   "metadata": {
    "pycharm": {
     "name": "#%%\n"
    }
   },
   "outputs": [],
   "source": [
    "if dt != (TIME_GRID[1] - TIME_GRID[0]):\n",
    "    TIME_GRID = tf.cast(np.linspace(T0, T1, int((T1-T0)//dt) + 2), dtype=DTYPE).numpy()"
   ]
  },
  {
   "cell_type": "code",
   "execution_count": 7,
   "id": "49d9563a",
   "metadata": {
    "pycharm": {
     "name": "#%%\n"
    }
   },
   "outputs": [],
   "source": [
    "def load_tvgp(model_dir: str):\n",
    "    \n",
    "    true_q = Q * tf.ones((1, 1), dtype=DTYPE)\n",
    "    prior_sde = PriorDoubleWellSDE(q=true_q, initial_a_val=3.1, initial_c_val=1.0)\n",
    "    likelihood = Gaussian(NOISE_VAR)\n",
    "\n",
    "    tvgp_model = SDESSM(input_data=OBSERVATION_DATA, prior_sde=prior_sde, grid=TIME_GRID,\n",
    "                                   likelihood=likelihood, learning_rate=0.8)\n",
    "    # Load trained model variables\n",
    "    data_sites = np.load(os.path.join(model_dir, \"ssm_data_sites.npz\"))\n",
    "    tvgp_model.data_sites.nat1 = Parameter(data_sites[\"nat1\"])\n",
    "    tvgp_model.data_sites.nat2 = Parameter(data_sites[\"nat2\"])\n",
    "    tvgp_model.data_sites.log_norm = Parameter(data_sites[\"log_norm\"])\n",
    "\n",
    "    sites = np.load(os.path.join(model_dir, \"ssm_sites.npz\"))\n",
    "    tvgp_model.sites_nat1 = sites[\"nat1\"]\n",
    "    tvgp_model.sites_nat2 = sites[\"nat2\"]\n",
    "\n",
    "#     ssm_learning_path = os.path.join(model_dir, \"ssm_learnt_sde.npz\")\n",
    "#     ssm_learning = np.load(ssm_learning_path)\n",
    "#     tvgp_model.prior_sde.a = ssm_learning[\"a\"] * tf.ones_like(tvgp_model.prior_sde.a)\n",
    "#     tvgp_model.prior_sde.c = ssm_learning[\"c\"] * tf.ones_like(tvgp_model.prior_sde.c)\n",
    "    \n",
    "    lin_path = os.path.join(model_dir, \"ssm_linearization_path.npz\")\n",
    "    lin = np.load(lin_path)\n",
    "    \n",
    "    tvgp_model.initial_mean = OBSERVATION_DATA[1][0] + 0. * tvgp_model.initial_mean\n",
    "    tvgp_model.initial_chol_cov = 0.5**(1/2) + 0. * tvgp_model.initial_chol_cov\n",
    "    \n",
    "    tvgp_model.linearization_pnts = (\n",
    "                                     lin[\"fx_mus\"].reshape(tvgp_model.fx_mus[:, :-1, :].shape), \n",
    "                                     lin[\"fx_covs\"].reshape(tvgp_model.fx_covs[:, :-1, :, :].shape)\n",
    "    )\n",
    "\n",
    "    tvgp_model._linearize_prior()\n",
    "    \n",
    "#     lin_inf_path = os.path.join(model_dir, \"ssm_latent_inference.npz\")\n",
    "#     lin_inf = np.load(lin_inf_path)\n",
    "#     tvgp_model.fx_mus, tvgp_model.fx_covs = lin_inf[\"fx_mus\"], lin_inf[\"fx_covs\"]\n",
    "    tvgp_model.fx_mus, tvgp_model.fx_covs = tvgp_model.dist_q.marginals\n",
    "    \n",
    "    return tvgp_model"
   ]
  },
  {
   "cell_type": "markdown",
   "id": "ad916990",
   "metadata": {
    "pycharm": {
     "name": "#%% md\n"
    }
   },
   "source": [
    "## Load Model"
   ]
  },
  {
   "cell_type": "code",
   "execution_count": 8,
   "id": "402e5acf",
   "metadata": {
    "pycharm": {
     "name": "#%%\n"
    }
   },
   "outputs": [],
   "source": [
    "t_vgp_model = load_tvgp(os.path.join(main_dir, sub_dir))"
   ]
  },
  {
   "cell_type": "code",
   "execution_count": 9,
   "id": "e059754d",
   "metadata": {
    "pycharm": {
     "name": "#%%\n"
    }
   },
   "outputs": [
    {
     "data": {
      "text/plain": [
       "<tf.Tensor: shape=(), dtype=float64, numpy=-23.963912957065737>"
      ]
     },
     "execution_count": 9,
     "metadata": {},
     "output_type": "execute_result"
    }
   ],
   "source": [
    "t_vgp_model.classic_elbo()"
   ]
  },
  {
   "cell_type": "code",
   "execution_count": 10,
   "id": "1e8a0d59",
   "metadata": {
    "pycharm": {
     "name": "#%%\n"
    }
   },
   "outputs": [
    {
     "data": {
      "text/plain": [
       "-23.965317984897286"
      ]
     },
     "execution_count": 10,
     "metadata": {},
     "output_type": "execute_result"
    }
   ],
   "source": [
    "np.load(os.path.join(main_dir, sub_dir, \"ssm_elbo.npz\"))[\"elbo\"][-1]"
   ]
  },
  {
   "cell_type": "code",
   "execution_count": 11,
   "id": "ef88b257",
   "metadata": {
    "pycharm": {
     "name": "#%%\n"
    }
   },
   "outputs": [],
   "source": [
    "# lin_inf_path = os.path.join(main_dir, sub_dir, \"ssm_latent_inference.npz\")\n",
    "# lin_inf = np.load(lin_inf_path)\n",
    "\n",
    "# t_vgp_model.dist_q.marginal_means, lin_inf[\"fx_mus\"]"
   ]
  },
  {
   "cell_type": "code",
   "execution_count": 12,
   "id": "5a1abcb2",
   "metadata": {
    "pycharm": {
     "name": "#%%\n"
    }
   },
   "outputs": [],
   "source": [
    "# t_vgp_model.dist_q.marginal_covariances, lin_inf[\"fx_covs\"]"
   ]
  },
  {
   "cell_type": "markdown",
   "id": "f7c55ea9",
   "metadata": {
    "pycharm": {
     "name": "#%% md\n"
    }
   },
   "source": [
    "## Plotting"
   ]
  },
  {
   "cell_type": "code",
   "execution_count": 13,
   "id": "a7a95796",
   "metadata": {
    "pycharm": {
     "name": "#%%\n"
    }
   },
   "outputs": [],
   "source": [
    "prior_ssm = t_vgp_model.dist_p_ssm\n",
    "prior_ssm_m = prior_ssm.marginal_means.numpy().reshape(-1)"
   ]
  },
  {
   "cell_type": "code",
   "execution_count": 14,
   "id": "16f83eed",
   "metadata": {
    "pycharm": {
     "name": "#%%\n"
    }
   },
   "outputs": [
    {
     "data": {
      "image/png": "[encoded data removed]",
      "text/plain": [
       "<Figure size 1080x360 with 1 Axes>"
      ]
     },
     "metadata": {
      "needs_background": "light"
     },
     "output_type": "display_data"
    }
   ],
   "source": [
    "plt.subplots(1, 1, figsize=(15, 5))\n",
    "\n",
    "plt.plot(OBSERVATION_DATA[0], OBSERVATION_DATA[1], \"kx\")\n",
    "plt.plot(TIME_GRID, prior_ssm_m)\n",
    "plt.hlines(-1, T0, T1, color=\"red\", linestyle=\"dashed\")\n",
    "plt.hlines(1, T0, T1, color=\"red\", linestyle=\"dashed\")\n",
    "\n",
    "plt.ylim([-1.3, 1.3])\n",
    "plt.xlim([T0, T1])\n",
    "plt.show()"
   ]
  },
  {
   "cell_type": "markdown",
   "id": "37b0b980",
   "metadata": {},
   "source": [
    "## Plotting c = -b/A"
   ]
  },
  {
   "cell_type": "code",
   "execution_count": null,
   "outputs": [],
   "source": [
    "b = t_vgp_model.dist_p_ssm.state_offsets/dt\n",
    "A = (t_vgp_model.dist_p_ssm.state_transitions - tf.eye(1, dtype=t_vgp_model.dist_p_ssm.state_transitions.dtype))/dt\n",
    "\n",
    "A = tf.reshape(A, (-1))\n",
    "b = tf.reshape(b, (-1))\n",
    "\n",
    "c_tvgp = -b/A"
   ],
   "metadata": {
    "collapsed": false,
    "pycharm": {
     "name": "#%%\n"
    }
   }
  },
  {
   "cell_type": "code",
   "execution_count": null,
   "outputs": [],
   "source": [
    "plt.subplots(1, 1, figsize=(15, 5))\n",
    "\n",
    "plt.hlines(-1, T0, T1, color=\"red\", linestyle=\"dashed\")\n",
    "plt.hlines(1, T0, T1, color=\"red\", linestyle=\"dashed\")\n",
    "\n",
    "plt.plot(TIME_GRID[:-1], c_tvgp)\n",
    "plt.ylim([-1.2, 1.2])\n",
    "plt.xlim([T0, T1])\n",
    "plt.title(\"-b/A\")\n",
    "plt.show()"
   ],
   "metadata": {
    "collapsed": false,
    "pycharm": {
     "name": "#%%\n"
    }
   }
  },
  {
   "cell_type": "markdown",
   "source": [
    "### Posterior"
   ],
   "metadata": {
    "collapsed": false,
    "pycharm": {
     "name": "#%% md\n"
    }
   }
  },
  {
   "cell_type": "code",
   "execution_count": null,
   "outputs": [],
   "source": [
    "m_ssm, s_std_ssm = predict_ssm(t_vgp_model, tf.math.sqrt(NOISE_VAR))"
   ],
   "metadata": {
    "collapsed": false,
    "pycharm": {
     "name": "#%%\n"
    }
   }
  },
  {
   "cell_type": "code",
   "execution_count": null,
   "outputs": [],
   "source": [
    "tvgp_pos = np.load(os.path.join(main_dir, sub_dir, \"ssm_inference.npz\"))"
   ],
   "metadata": {
    "collapsed": false,
    "pycharm": {
     "name": "#%%\n"
    }
   }
  },
  {
   "cell_type": "code",
   "execution_count": null,
   "outputs": [],
   "source": [
    "plt.subplots(1, 1, figsize=(15, 5))\n",
    "\n",
    "plt.plot(OBSERVATION_DATA[0], OBSERVATION_DATA[1], \"kx\")\n",
    "plt.plot(TIME_GRID, prior_ssm_m)\n",
    "plot_posterior(m_ssm, s_std_ssm, TIME_GRID, \"SDE-SSM\")\n",
    "plt.plot(TIME_GRID, tvgp_pos[\"m\"], alpha=0.4)\n",
    "\n",
    "plt.xlim([T0, T1])\n",
    "plt.ylim([-1.3, 1.3])"
   ],
   "metadata": {
    "collapsed": false,
    "pycharm": {
     "name": "#%%\n"
    }
   }
  },
  {
   "cell_type": "code",
   "execution_count": null,
   "outputs": [],
   "source": [
    "OBSERVATION_DATA[1]/NOISE_VAR - t_vgp_model.data_sites.nat1.numpy()"
   ],
   "metadata": {
    "collapsed": false,
    "pycharm": {
     "name": "#%%\n"
    }
   }
  },
  {
   "cell_type": "code",
   "execution_count": null,
   "outputs": [],
   "source": [
    "-1/(2*NOISE_VAR) - t_vgp_model.data_sites.nat2"
   ],
   "metadata": {
    "collapsed": false,
    "pycharm": {
     "name": "#%%\n"
    }
   }
  },
  {
   "cell_type": "markdown",
   "source": [
    "## VGP Model Plot"
   ],
   "metadata": {
    "collapsed": false,
    "pycharm": {
     "name": "#%% md\n"
    }
   }
  },
  {
   "cell_type": "markdown",
   "source": [
    "### Variational Parameters"
   ],
   "metadata": {
    "collapsed": false,
    "pycharm": {
     "name": "#%% md\n"
    }
   }
  },
  {
   "cell_type": "code",
   "execution_count": null,
   "outputs": [],
   "source": [
    "lagrange_path = os.path.join(main_dir, sub_dir, \"vgp_lagrange.npz\")\n",
    "lagrange_data = np.load(lagrange_path)\n",
    "\n",
    "psi_lagrange = lagrange_data[\"psi_lagrange\"]\n",
    "lambda_lagrange = lagrange_data[\"lambda_lagrange\"]"
   ],
   "metadata": {
    "collapsed": false,
    "pycharm": {
     "name": "#%%\n"
    }
   }
  },
  {
   "cell_type": "code",
   "execution_count": null,
   "outputs": [],
   "source": [
    "A_b_path = os.path.join(main_dir, sub_dir, \"vgp_A_b.npz\")\n",
    "A_b_data = np.load(A_b_path)\n",
    "\n",
    "A = A_b_data[\"A\"]\n",
    "b = A_b_data[\"b\"]"
   ],
   "metadata": {
    "collapsed": false,
    "pycharm": {
     "name": "#%%\n"
    }
   }
  },
  {
   "cell_type": "code",
   "execution_count": null,
   "outputs": [],
   "source": [
    "fig, axs = plt.subplots(4, 1, figsize=(15, 15))\n",
    "\n",
    "axs[0].plot(TIME_GRID, psi_lagrange.reshape(-1))\n",
    "axs[0].set_title(\"Psi\")\n",
    "\n",
    "axs[1].plot(TIME_GRID, lambda_lagrange.reshape(-1))\n",
    "axs[1].set_title(\"Lambda\")\n",
    "# axs[1].set_ylim(-1 , 1)\n",
    "\n",
    "axs[2].plot(TIME_GRID, A.reshape(-1))\n",
    "axs[2].set_title(\"A\")\n",
    "\n",
    "axs[3].plot(TIME_GRID, b.reshape(-1))\n",
    "axs[3].set_title(\"b\")\n",
    "# axs[3].set_ylim(-2 , 2)\n",
    "\n",
    "plt.show()\n"
   ],
   "metadata": {
    "collapsed": false,
    "pycharm": {
     "name": "#%%\n"
    }
   }
  },
  {
   "cell_type": "code",
   "execution_count": null,
   "outputs": [],
   "source": [
    "c_vgp = b.reshape(-1)/A.reshape(-1)"
   ],
   "metadata": {
    "collapsed": false,
    "pycharm": {
     "name": "#%%\n"
    }
   }
  },
  {
   "cell_type": "code",
   "execution_count": null,
   "outputs": [],
   "source": [
    "plt.subplots(1, 1, figsize=(15, 5))\n",
    "\n",
    "plt.hlines(-1, T0, T1, color=\"red\", linestyle=\"dashed\")\n",
    "plt.hlines(1, T0, T1, color=\"red\", linestyle=\"dashed\")\n",
    "\n",
    "plt.plot(TIME_GRID, c_vgp, label=\"VGP\")\n",
    "plt.plot(TIME_GRID[:-1], c_tvgp, label=\"t-VGP\")\n",
    "plt.ylim([-1.2, 1.2])\n",
    "plt.xlim([T0, T1])\n",
    "plt.title(\"-b/A\")\n",
    "plt.legend()\n",
    "plt.show()"
   ],
   "metadata": {
    "collapsed": false,
    "pycharm": {
     "name": "#%%\n"
    }
   }
  }
 ],
 "metadata": {
  "kernelspec": {
   "display_name": "Python 3",
   "language": "python",
   "name": "python3"
  },
  "language_info": {
   "codemirror_mode": {
    "name": "ipython",
    "version": 3
   },
   "file_extension": ".py",
   "mimetype": "text/x-python",
   "name": "python",
   "nbconvert_exporter": "python",
   "pygments_lexer": "ipython3",
   "version": "3.7.11"
  }
 },
 "nbformat": 4,
 "nbformat_minor": 5
}