{
 "cells": [
  {
   "cell_type": "markdown",
   "id": "75d9d879",
   "metadata": {
    "cell_marker": "\"\"\""
   },
   "source": [
    "# Basic classification using the CVIGaussianProcess model"
   ]
  },
  {
   "cell_type": "markdown",
   "id": "bc9eed2d",
   "metadata": {
    "cell_marker": "\"\"\"",
    "lines_to_next_cell": 0
   },
   "source": [
    "This notebook explains how to perform GP inference using the Markovflow CVIGaussianProcess model.\n",
    "Here, we perform binary classification with time as the input.\n",
    "\n",
    "As with GPR, the observations do not have to be regularly spaced. However, they do need to be sequential. We denote the input/output tuples as $(x_i, y_i)_{1 \\leq i \\leq n}$, where $x_i$ is a scalar value and $y_i \\in \\{0, 1\\}$.\n",
    "\n",
    "Our probabilistic model for this data is:\n",
    "$$\n",
    "\\begin{align}\n",
    "f \\sim \\mathcal{GP}(0, k(., .)) \\\\\n",
    "y_i \\sim \\mathcal{B}(\\Phi(f(x_i)))\n",
    "\\end{align}\n",
    "$$\n",
    "\n",
    "where $\\Phi$ is a function that maps $f(x_i)$ to $[0, 1]$, the probability that $y_i=1$. In practice, we choose $\\Phi$ to be the standard normal cumulative distribution function (also known as the probit function) which maps to $[0, 1]$.\n",
    "\n",
    "**NOTE:** If you have difficulty running this notebook, consider clearing the output and then restarting the kernel."
   ]
  },
  {
   "cell_type": "code",
   "execution_count": 1,
   "id": "b642fca4",
   "metadata": {
    "execution": {
     "iopub.execute_input": "2022-09-17T14:46:06.823108Z",
     "iopub.status.busy": "2022-09-17T14:46:06.822617Z",
     "iopub.status.idle": "2022-09-17T14:46:08.654289Z",
     "shell.execute_reply": "2022-09-17T14:46:08.654695Z"
    }
   },
   "outputs": [
    {
     "name": "stderr",
     "output_type": "stream",
     "text": [
      "2022-09-17 14:46:07.193013: W tensorflow/stream_executor/platform/default/dso_loader.cc:60] Could not load dynamic library 'libcudart.so.11.0'; dlerror: libcudart.so.11.0: cannot open shared object file: No such file or directory; LD_LIBRARY_PATH: /opt/hostedtoolcache/Python/3.7.13/x64/lib\n",
      "2022-09-17 14:46:07.193050: I tensorflow/stream_executor/cuda/cudart_stub.cc:29] Ignore above cudart dlerror if you do not have a GPU set up on your machine.\n"
     ]
    }
   ],
   "source": [
    "# Setup\n",
    "\n",
    "import warnings\n",
    "\n",
    "# Turn off warnings\n",
    "warnings.simplefilter('ignore')\n",
    "\n",
    "\n",
    "import matplotlib.pyplot as plt\n",
    "import numpy as np\n",
    "import tensorflow as tf\n",
    "\n",
    "from gpflow import default_float\n",
    "from gpflow.ci_utils import ci_niter\n",
    "from gpflow.likelihoods import Bernoulli\n",
    "\n",
    "from markovflow.models.variational_cvi import CVIGaussianProcess\n",
    "from markovflow.kernels import Matern52\n",
    "\n",
    "\n",
    "np.random.seed(0)\n",
    "FLOAT_TYPE = default_float()\n",
    "\n",
    "# uncomment in notebook\n",
    "# try:\n",
    "#     from IPython import get_ipython\n",
    "#     get_ipython().run_line_magic('matplotlib', 'inline')\n",
    "# except AttributeError:\n",
    "#     print('Magic function can only be used in IPython environment')\n",
    "#     matplotlib.use('Agg')\n",
    "\n",
    "plt.rcParams[\"figure.figsize\"] = [15, 8]"
   ]
  },
  {
   "cell_type": "markdown",
   "id": "edf24d2e",
   "metadata": {
    "cell_marker": "\"\"\"",
    "lines_to_next_cell": 0
   },
   "source": [
    "## Step 1: Generate training data\n",
    "\n",
    "First, let's generate some binary data $X = (x_1, \\dots, x_n)$ and $Y = (y_1, \\dots, y_n)^T$."
   ]
  },
  {
   "cell_type": "code",
   "execution_count": 2,
   "id": "13669d7f",
   "metadata": {
    "execution": {
     "iopub.execute_input": "2022-09-17T14:46:08.660428Z",
     "iopub.status.busy": "2022-09-17T14:46:08.659488Z",
     "iopub.status.idle": "2022-09-17T14:46:08.663067Z",
     "shell.execute_reply": "2022-09-17T14:46:08.662675Z"
    },
    "lines_to_next_cell": 2
   },
   "outputs": [],
   "source": [
    "# Generate some observations\n",
    "num_data = 300\n",
    "time_points = np.linspace(0 , 1, num_data)\n",
    "F = np.cos(time_points * 20).reshape(-1, 1)\n",
    "observations = (F + np.random.randn(*F.shape) > 0).astype(float)\n",
    "data = (time_points, observations)"
   ]
  },
  {
   "cell_type": "markdown",
   "id": "d030e5eb",
   "metadata": {
    "cell_marker": "\"\"\"",
    "lines_to_next_cell": 0
   },
   "source": [
    "## Step 2: Choose a kernel"
   ]
  },
  {
   "cell_type": "code",
   "execution_count": 3,
   "id": "18417e19",
   "metadata": {
    "execution": {
     "iopub.execute_input": "2022-09-17T14:46:08.669057Z",
     "iopub.status.busy": "2022-09-17T14:46:08.668576Z",
     "iopub.status.idle": "2022-09-17T14:46:08.676911Z",
     "shell.execute_reply": "2022-09-17T14:46:08.677341Z"
    }
   },
   "outputs": [
    {
     "name": "stdout",
     "output_type": "stream",
     "text": [
      "3\n"
     ]
    },
    {
     "name": "stderr",
     "output_type": "stream",
     "text": [
      "2022-09-17 14:46:08.665765: I tensorflow/compiler/jit/xla_cpu_device.cc:41] Not creating XLA devices, tf_xla_enable_xla_devices not set\n",
      "2022-09-17 14:46:08.665964: W tensorflow/stream_executor/platform/default/dso_loader.cc:60] Could not load dynamic library 'libcuda.so.1'; dlerror: libcuda.so.1: cannot open shared object file: No such file or directory; LD_LIBRARY_PATH: /opt/hostedtoolcache/Python/3.7.13/x64/lib\n",
      "2022-09-17 14:46:08.665974: W tensorflow/stream_executor/cuda/cuda_driver.cc:326] failed call to cuInit: UNKNOWN ERROR (303)\n",
      "2022-09-17 14:46:08.665998: I tensorflow/stream_executor/cuda/cuda_diagnostics.cc:156] kernel driver does not appear to be running on this host (fv-az178-774): /proc/driver/nvidia/version does not exist\n",
      "2022-09-17 14:46:08.666248: I tensorflow/core/platform/cpu_feature_guard.cc:142] This TensorFlow binary is optimized with oneAPI Deep Neural Network Library (oneDNN) to use the following CPU instructions in performance-critical operations:  AVX2 AVX512F FMA\n",
      "To enable them in other operations, rebuild TensorFlow with the appropriate compiler flags.\n",
      "2022-09-17 14:46:08.666360: I tensorflow/compiler/jit/xla_gpu_device.cc:99] Not creating XLA devices, tf_xla_enable_xla_devices not set\n"
     ]
    }
   ],
   "source": [
    "\n",
    "kernel = Matern52(lengthscale=.2, variance=5.0)\n",
    "\n",
    "# We see Matern12 has only two dimensions (therefore there is less risk of overparameterising)\n",
    "print(kernel.state_dim)"
   ]
  },
  {
   "cell_type": "markdown",
   "id": "82622c11",
   "metadata": {
    "cell_marker": "\"\"\"",
    "lines_to_next_cell": 0
   },
   "source": [
    "## Step 3: Build and optimise a model\n",
    "\n",
    "This is a classification problem with outputs between `[0,1]`, so we create a variational GP model using a Bernoulli likelihood."
   ]
  },
  {
   "cell_type": "code",
   "execution_count": 4,
   "id": "7342b2d5",
   "metadata": {
    "execution": {
     "iopub.execute_input": "2022-09-17T14:46:08.688443Z",
     "iopub.status.busy": "2022-09-17T14:46:08.680712Z",
     "iopub.status.idle": "2022-09-17T14:46:51.913418Z",
     "shell.execute_reply": "2022-09-17T14:46:51.912997Z"
    },
    "lines_to_next_cell": 3
   },
   "outputs": [
    {
     "data": {
      "image/png": "[encoded data removed]",
      "text/plain": [
       "<Figure size 720x432 with 1 Axes>"
      ]
     },
     "metadata": {
      "needs_background": "light"
     },
     "output_type": "display_data"
    },
    {
     "name": "stdout",
     "output_type": "stream",
     "text": [
      "0 tf.Tensor(-3625.587221755262, shape=(), dtype=float64)\n"
     ]
    },
    {
     "name": "stdout",
     "output_type": "stream",
     "text": [
      "10 tf.Tensor(-556.6376706768804, shape=(), dtype=float64)\n"
     ]
    },
    {
     "name": "stdout",
     "output_type": "stream",
     "text": [
      "20 tf.Tensor(-531.5701690613641, shape=(), dtype=float64)\n"
     ]
    },
    {
     "name": "stdout",
     "output_type": "stream",
     "text": [
      "30 tf.Tensor(-525.4783223926928, shape=(), dtype=float64)\n"
     ]
    },
    {
     "name": "stdout",
     "output_type": "stream",
     "text": [
      "40 tf.Tensor(-523.4811612909392, shape=(), dtype=float64)\n"
     ]
    },
    {
     "name": "stdout",
     "output_type": "stream",
     "text": [
      "50 tf.Tensor(-522.7472761951153, shape=(), dtype=float64)\n"
     ]
    },
    {
     "name": "stdout",
     "output_type": "stream",
     "text": [
      "60 tf.Tensor(-522.4636221954515, shape=(), dtype=float64)\n"
     ]
    },
    {
     "name": "stdout",
     "output_type": "stream",
     "text": [
      "70 tf.Tensor(-522.3510786289505, shape=(), dtype=float64)\n"
     ]
    },
    {
     "name": "stdout",
     "output_type": "stream",
     "text": [
      "80 tf.Tensor(-522.305729478675, shape=(), dtype=float64)\n"
     ]
    },
    {
     "name": "stdout",
     "output_type": "stream",
     "text": [
      "90 tf.Tensor(-522.2872750728598, shape=(), dtype=float64)\n"
     ]
    },
    {
     "name": "stdout",
     "output_type": "stream",
     "text": [
      "100 tf.Tensor(-522.2797170000238, shape=(), dtype=float64)\n"
     ]
    },
    {
     "name": "stdout",
     "output_type": "stream",
     "text": [
      "110 tf.Tensor(-522.2766088950966, shape=(), dtype=float64)\n"
     ]
    },
    {
     "name": "stdout",
     "output_type": "stream",
     "text": [
      "120 tf.Tensor(-522.2753283679884, shape=(), dtype=float64)\n"
     ]
    },
    {
     "name": "stdout",
     "output_type": "stream",
     "text": [
      "130 tf.Tensor(-522.2747984304037, shape=(), dtype=float64)\n"
     ]
    },
    {
     "name": "stdout",
     "output_type": "stream",
     "text": [
      "140 tf.Tensor(-522.274580032272, shape=(), dtype=float64)\n"
     ]
    },
    {
     "name": "stdout",
     "output_type": "stream",
     "text": [
      "150 tf.Tensor(-522.2744887538497, shape=(), dtype=float64)\n"
     ]
    },
    {
     "name": "stdout",
     "output_type": "stream",
     "text": [
      "160 tf.Tensor(-522.274451839274, shape=(), dtype=float64)\n"
     ]
    },
    {
     "name": "stdout",
     "output_type": "stream",
     "text": [
      "170 tf.Tensor(-522.2744363440205, shape=(), dtype=float64)\n"
     ]
    },
    {
     "name": "stdout",
     "output_type": "stream",
     "text": [
      "180 tf.Tensor(-522.2744295248319, shape=(), dtype=float64)\n"
     ]
    },
    {
     "name": "stdout",
     "output_type": "stream",
     "text": [
      "190 tf.Tensor(-522.2744275149942, shape=(), dtype=float64)\n"
     ]
    },
    {
     "name": "stdout",
     "output_type": "stream",
     "text": [
      "200 tf.Tensor(-522.2744266514927, shape=(), dtype=float64)\n"
     ]
    },
    {
     "name": "stdout",
     "output_type": "stream",
     "text": [
      "210 tf.Tensor(-522.2744262640493, shape=(), dtype=float64)\n"
     ]
    },
    {
     "name": "stdout",
     "output_type": "stream",
     "text": [
      "220 tf.Tensor(-522.274426143615, shape=(), dtype=float64)\n"
     ]
    },
    {
     "name": "stdout",
     "output_type": "stream",
     "text": [
      "230 tf.Tensor(-522.2744261053072, shape=(), dtype=float64)\n"
     ]
    },
    {
     "name": "stdout",
     "output_type": "stream",
     "text": [
      "240 tf.Tensor(-522.2744260925317, shape=(), dtype=float64)\n"
     ]
    },
    {
     "name": "stdout",
     "output_type": "stream",
     "text": [
      "250 tf.Tensor(-522.2744260881852, shape=(), dtype=float64)\n"
     ]
    },
    {
     "name": "stdout",
     "output_type": "stream",
     "text": [
      "260 tf.Tensor(-522.2744260866937, shape=(), dtype=float64)\n"
     ]
    },
    {
     "name": "stdout",
     "output_type": "stream",
     "text": [
      "270 tf.Tensor(-522.2744260861798, shape=(), dtype=float64)\n"
     ]
    },
    {
     "name": "stdout",
     "output_type": "stream",
     "text": [
      "280 tf.Tensor(-522.2744260860023, shape=(), dtype=float64)\n"
     ]
    },
    {
     "name": "stdout",
     "output_type": "stream",
     "text": [
      "290 tf.Tensor(-522.274426085941, shape=(), dtype=float64)\n"
     ]
    },
    {
     "name": "stdout",
     "output_type": "stream",
     "text": [
      "300 tf.Tensor(-522.2744260859197, shape=(), dtype=float64)\n"
     ]
    },
    {
     "name": "stdout",
     "output_type": "stream",
     "text": [
      "310 tf.Tensor(-522.2744260859123, shape=(), dtype=float64)\n"
     ]
    },
    {
     "name": "stdout",
     "output_type": "stream",
     "text": [
      "320 tf.Tensor(-522.2744260859097, shape=(), dtype=float64)\n"
     ]
    },
    {
     "name": "stdout",
     "output_type": "stream",
     "text": [
      "330 tf.Tensor(-522.2744260859089, shape=(), dtype=float64)\n"
     ]
    },
    {
     "name": "stdout",
     "output_type": "stream",
     "text": [
      "340 tf.Tensor(-522.2744260859085, shape=(), dtype=float64)\n"
     ]
    },
    {
     "name": "stdout",
     "output_type": "stream",
     "text": [
      "350 tf.Tensor(-522.2744260859084, shape=(), dtype=float64)\n"
     ]
    },
    {
     "name": "stdout",
     "output_type": "stream",
     "text": [
      "360 tf.Tensor(-522.2744260859084, shape=(), dtype=float64)\n"
     ]
    },
    {
     "name": "stdout",
     "output_type": "stream",
     "text": [
      "370 tf.Tensor(-522.2744260859084, shape=(), dtype=float64)\n"
     ]
    },
    {
     "name": "stdout",
     "output_type": "stream",
     "text": [
      "380 tf.Tensor(-522.2744260859084, shape=(), dtype=float64)\n"
     ]
    },
    {
     "name": "stdout",
     "output_type": "stream",
     "text": [
      "390 tf.Tensor(-522.2744260859084, shape=(), dtype=float64)\n"
     ]
    },
    {
     "name": "stdout",
     "output_type": "stream",
     "text": [
      "400 tf.Tensor(-522.2744260859084, shape=(), dtype=float64)\n"
     ]
    },
    {
     "name": "stdout",
     "output_type": "stream",
     "text": [
      "410 tf.Tensor(-522.2744260859084, shape=(), dtype=float64)\n"
     ]
    },
    {
     "name": "stdout",
     "output_type": "stream",
     "text": [
      "420 tf.Tensor(-522.2744260859084, shape=(), dtype=float64)\n"
     ]
    },
    {
     "name": "stdout",
     "output_type": "stream",
     "text": [
      "430 tf.Tensor(-522.2744260859084, shape=(), dtype=float64)\n"
     ]
    },
    {
     "name": "stdout",
     "output_type": "stream",
     "text": [
      "440 tf.Tensor(-522.2744260859084, shape=(), dtype=float64)\n"
     ]
    },
    {
     "name": "stdout",
     "output_type": "stream",
     "text": [
      "450 tf.Tensor(-522.2744260859084, shape=(), dtype=float64)\n"
     ]
    },
    {
     "name": "stdout",
     "output_type": "stream",
     "text": [
      "460 tf.Tensor(-522.2744260859084, shape=(), dtype=float64)\n"
     ]
    },
    {
     "name": "stdout",
     "output_type": "stream",
     "text": [
      "470 tf.Tensor(-522.2744260859084, shape=(), dtype=float64)\n"
     ]
    },
    {
     "name": "stdout",
     "output_type": "stream",
     "text": [
      "480 tf.Tensor(-522.2744260859084, shape=(), dtype=float64)\n"
     ]
    },
    {
     "name": "stdout",
     "output_type": "stream",
     "text": [
      "490 tf.Tensor(-522.2744260859084, shape=(), dtype=float64)\n"
     ]
    },
    {
     "data": {
      "image/png": "[encoded data removed]",
      "text/plain": [
       "<Figure size 720x432 with 1 Axes>"
      ]
     },
     "metadata": {
      "needs_background": "light"
     },
     "output_type": "display_data"
    }
   ],
   "source": [
    "\n",
    "# Create a likelihood object\n",
    "likelihood = Bernoulli()\n",
    "\n",
    "input_data = (tf.constant(time_points), tf.constant(observations))\n",
    "vgpc = CVIGaussianProcess(input_data=input_data, kernel=kernel, likelihood=likelihood,\n",
    "                          learning_rate=.1)\n",
    "\n",
    "\n",
    "def plot_model(model):\n",
    "\n",
    "    f_mu, f_var = model.posterior.predict_f(time_points)\n",
    "    f_mu = f_mu.numpy()\n",
    "    f_std = np.sqrt(f_var)\n",
    "\n",
    "    plt.figure(figsize=(10, 6))\n",
    "    plt.plot(time_points, observations, 'kx', ms=8, mew=2, label='data')\n",
    "    plt.plot(time_points, F, 'b', ms=8, mew=2, label='underlying $f$')\n",
    "    plt.plot(time_points, f_mu, 'C0', ms=8, mew=2, label='posterior prediction')\n",
    "    plt.fill_between(\n",
    "        time_points,\n",
    "        y1 = (f_mu - 2 * f_std).reshape(-1,),\n",
    "        y2 = (f_mu + 2 * f_std).reshape(-1,),\n",
    "        alpha=.2, facecolor='C0'\n",
    "    )\n",
    "    plt.xlabel(\"Time\")\n",
    "    plt.ylabel(\"Label\")\n",
    "    plt.legend()\n",
    "    plt.show()\n",
    "\n",
    "\n",
    "plot_model(vgpc)\n",
    "\n",
    "max_iter = ci_niter(500)\n",
    "for i in range(max_iter):\n",
    "    if i % 10 == 0:\n",
    "        print(i, vgpc.elbo())\n",
    "    vgpc.update_sites()\n",
    "plot_model(vgpc)"
   ]
  }
 ],
 "metadata": {
  "jupytext": {
   "cell_markers": "\"\"\"",
   "encoding": "# -*- coding: utf-8 -*-",
   "formats": "ipynb,py:percent"
  },
  "kernelspec": {
   "display_name": "Python 3",
   "language": "python",
   "name": "python3"
  },
  "language_info": {
   "codemirror_mode": {
    "name": "ipython",
    "version": 3
   },
   "file_extension": ".py",
   "mimetype": "text/x-python",
   "name": "python",
   "nbconvert_exporter": "python",
   "pygments_lexer": "ipython3",
   "version": "3.7.13"
  }
 },
 "nbformat": 4,
 "nbformat_minor": 5
}
